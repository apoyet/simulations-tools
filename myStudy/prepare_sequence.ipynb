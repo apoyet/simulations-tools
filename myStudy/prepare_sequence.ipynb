{
 "cells": [
  {
   "cell_type": "code",
   "execution_count": 24,
   "metadata": {},
   "outputs": [],
   "source": [
    "import numpy as np\n",
    "import pandas as pd\n",
    "import json\n",
    "import sys\n",
    "import os\n",
    "import subprocess\n",
    "sys.path.append('/eos/user/a/apoyet/SWAN_projects/2018/simulations-tools/python-toolkit/')\n",
    "import parametricSimulations as pySim"
   ]
  },
  {
   "cell_type": "code",
   "execution_count": 25,
   "metadata": {},
   "outputs": [
    {
     "data": {
      "text/plain": [
       "array(['%MASKED_I_MO', '%MASKED_NPART', '%MASKED_NRJ',\n",
       "       '%MASKED_ON_BB_SWITCH', '%MASKED_ON_COLLISION',\n",
       "       '%MASKED_emittance_norm', '%MASKED_mylhcbeam', '%MASKED_n_insideD1',\n",
       "       '%MASKED_on_ho1', '%MASKED_on_ho2', '%MASKED_on_ho5',\n",
       "       '%MASKED_on_ho8', '%MASKED_on_lr1l', '%MASKED_on_lr1r',\n",
       "       '%MASKED_on_lr2l', '%MASKED_on_lr2r', '%MASKED_on_lr5l',\n",
       "       '%MASKED_on_lr5r', '%MASKED_on_lr8l', '%MASKED_on_lr8r',\n",
       "       '%MASKED_on_ov5', '%MASKED_on_x1', '%MASKED_on_x5',\n",
       "       '%MASKED_opticsfile', '%MASKED_qprime', '%MASKED_qprimx0',\n",
       "       '%MASKED_qprimy0', '%MASKED_qx0', '%MASKED_qy0'],\n",
       "      dtype='|S22')"
      ]
     },
     "execution_count": 25,
     "metadata": {},
     "output_type": "execute_result"
    }
   ],
   "source": [
    "# folder of study\n",
    "\n",
    "myStudyFolder = '/eos/user/a/apoyet/SWAN_projects/2018/simulations-tools/myStudy/'\n",
    "\n",
    "# folder containing masked file\n",
    "\n",
    "myMaskFolder = '/eos/user/a/apoyet/SWAN_projects/2018/simulations-tools/mask/'\n",
    "myFile = myMaskFolder+'sequence_maker_masked.mask'\n",
    "\n",
    "# get the list of masked parameters\n",
    "\n",
    "myMaskedParam = pySim.getMaskedParameterList(myFile, tag='%MASKED_')\n",
    "\n",
    "# print the list of masked parameters\n",
    "\n",
    "myMaskedParam"
   ]
  },
  {
   "cell_type": "code",
   "execution_count": 33,
   "metadata": {},
   "outputs": [],
   "source": [
    "# Define the parameters\n",
    "\n",
    "myParams = {}\n",
    "myParams.update({\n",
    "    # BEAM AND MACHINE PARAMETERS\n",
    "    '%MASKED_I_MO' : 0,              #[A] MO Octupole\n",
    "    '%MASKED_NPART' : 1.15e11,       #[p] per bunch\n",
    "    '%MASKED_NRJ' : 6500,            #[GeV]\n",
    "    '%MASKED_ON_BB_SWITCH' : 1,      # Switch to install BB\n",
    "    '%MASKED_ON_COLLISION' : 1,      # Switch to enable crossing scheme\n",
    "    '%MASKED_emittance_norm' : 2.2,  #[1e-6] nomalised emittance\n",
    "    '%MASKED_mylhcbeam' : 1,         #beam to be tracked (B1!)\n",
    "    '%MASKED_on_ov5' : 0,            # CMS bump (if on, -1.8 [mm])\n",
    "    \n",
    "    # OPTICS\n",
    "    '%MASKED_opticsfile' : \"db5/PROTON/opticsfile.22_ctpps2\",\n",
    "    '%MASKED_on_x1' : 150,\n",
    "    '%MASKED_on_x5' : 150,\n",
    "    '%MASKED_qprime' : 15,\n",
    "    '%MASKED_qprimx0' : 15,\n",
    "    '%MASKED_qprimy0' : 15,\n",
    "    '%MASKED_qx0' : 62.31,\n",
    "    '%MASKED_qy0' : 60.32,  \n",
    "    \n",
    "    # BB ENCOUNTERS\n",
    "    '%MASKED_n_insideD1' : 5,        # nb of encounters in D1, nominal 5\n",
    "    '%MASKED_on_ho1' : 1,\n",
    "    '%MASKED_on_ho2' : 0,\n",
    "    '%MASKED_on_ho5' : 1,\n",
    "    '%MASKED_on_ho8' : 0,\n",
    "    '%MASKED_on_lr1l' : 1,\n",
    "    '%MASKED_on_lr1r' : 1,\n",
    "    '%MASKED_on_lr2l' : 0,\n",
    "    '%MASKED_on_lr2r' : 0,\n",
    "    '%MASKED_on_lr5l' : 1,\n",
    "    '%MASKED_on_lr5r' : 1,\n",
    "    '%MASKED_on_lr8l' : 0,\n",
    "    '%MASKED_on_lr8r' : 0\n",
    "})"
   ]
  },
  {
   "cell_type": "code",
   "execution_count": 34,
   "metadata": {},
   "outputs": [
    {
     "name": "stdout",
     "output_type": "stream",
     "text": [
      "#====================================================================================#\n",
      "WARNING!!!! 2 parameter(s) is/are not defined!! Please define everything!\n",
      "#====================================================================================#\n"
     ]
    }
   ],
   "source": [
    "#====================================================================================#\n",
    "#                                 IMPORTANT CHECK                                    #\n",
    "#====================================================================================#\n",
    "# We want to be sure every paramter is defined\n",
    "\n",
    "if len(myMaskedParam)==len(myParams):\n",
    "    print('#====================================================================================#')\n",
    "    print('Congrats, you can proceed!!')\n",
    "    print('#====================================================================================#')\n",
    "else:\n",
    "    print('#====================================================================================#')\n",
    "    print('WARNING!!!! {} parameter(s) is/are not defined!! Please define everything!'.format(len(myMaskedParam)-len(myParams)))\n",
    "    print('#====================================================================================#')"
   ]
  },
  {
   "cell_type": "code",
   "execution_count": 29,
   "metadata": {},
   "outputs": [],
   "source": [
    "#====================================================================================#\n",
    "#                                 UNMASK THE FILE                                    #\n",
    "#====================================================================================#\n",
    "\n",
    "pySim.unmaskSequenceMaker(myFile, myMaskedParam, myParams, myStudyFolder)"
   ]
  },
  {
   "cell_type": "code",
   "execution_count": 30,
   "metadata": {},
   "outputs": [
    {
     "data": {
      "text/plain": [
       "256"
      ]
     },
     "execution_count": 30,
     "metadata": {},
     "output_type": "execute_result"
    }
   ],
   "source": [
    "#====================================================================================#\n",
    "#                                     RUN MADX                                       #\n",
    "#====================================================================================#\n",
    "\n",
    "myOut = myStudyFolder+'output/sequence_maker.out'\n",
    "myIn = myStudyFolder+'unmasked_sequence/sequence_maker.madx'\n",
    "\n",
    "executable='/eos/user/s/sterbini/MD_ANALYSIS/MADX/madx-linux64-gnu'\n",
    "myCommand = executable + '<' + myIn + '>' + myOut\n",
    "\n",
    "os.system(myCommand)"
   ]
  },
  {
   "cell_type": "code",
   "execution_count": null,
   "metadata": {},
   "outputs": [],
   "source": [
    "executable + ' < ' + str.replace(df.unmaskedInput,' ','\\ ') + ' > ' +  str.replace(df.standardOut,' ','\\ ')"
   ]
  }
 ],
 "metadata": {
  "kernelspec": {
   "display_name": "Python 2",
   "language": "python",
   "name": "python2"
  },
  "language_info": {
   "codemirror_mode": {
    "name": "ipython",
    "version": 2
   },
   "file_extension": ".py",
   "mimetype": "text/x-python",
   "name": "python",
   "nbconvert_exporter": "python",
   "pygments_lexer": "ipython2",
   "version": "2.7.13"
  }
 },
 "nbformat": 4,
 "nbformat_minor": 2
}
